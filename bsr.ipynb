{
 "cells": [
  {
   "cell_type": "code",
   "execution_count": 1,
   "id": "b184d33d",
   "metadata": {
    "collapsed": true
   },
   "outputs": [
    {
     "name": "stdout",
     "output_type": "stream",
     "text": [
      "Requirement already satisfied: basicsr in /home/stm/anaconda3/envs/gan/lib/python3.8/site-packages (1.3.4.9)\n",
      "Requirement already satisfied: tb-nightly in /home/stm/anaconda3/envs/gan/lib/python3.8/site-packages (from basicsr) (2.9.0a20220213)\n",
      "Requirement already satisfied: pyyaml in /home/stm/anaconda3/envs/gan/lib/python3.8/site-packages (from basicsr) (6.0)\n",
      "Requirement already satisfied: torch>=1.7 in /home/stm/anaconda3/envs/gan/lib/python3.8/site-packages (from basicsr) (1.10.2)\n",
      "Requirement already satisfied: addict in /home/stm/anaconda3/envs/gan/lib/python3.8/site-packages (from basicsr) (2.4.0)\n",
      "Requirement already satisfied: opencv-python in /home/stm/anaconda3/envs/gan/lib/python3.8/site-packages (from basicsr) (4.5.5.62)\n",
      "Requirement already satisfied: torchvision in /home/stm/anaconda3/envs/gan/lib/python3.8/site-packages (from basicsr) (0.11.3)\n",
      "Requirement already satisfied: requests in /home/stm/anaconda3/envs/gan/lib/python3.8/site-packages (from basicsr) (2.27.1)\n",
      "Requirement already satisfied: yapf in /home/stm/anaconda3/envs/gan/lib/python3.8/site-packages (from basicsr) (0.32.0)\n",
      "Requirement already satisfied: scikit-image in /home/stm/anaconda3/envs/gan/lib/python3.8/site-packages (from basicsr) (0.19.1)\n",
      "Requirement already satisfied: Pillow in /home/stm/anaconda3/envs/gan/lib/python3.8/site-packages (from basicsr) (9.0.1)\n",
      "Requirement already satisfied: future in /home/stm/anaconda3/envs/gan/lib/python3.8/site-packages (from basicsr) (0.18.2)\n",
      "Requirement already satisfied: lmdb in /home/stm/anaconda3/envs/gan/lib/python3.8/site-packages (from basicsr) (1.3.0)\n",
      "Requirement already satisfied: scipy in /home/stm/anaconda3/envs/gan/lib/python3.8/site-packages (from basicsr) (1.8.0)\n",
      "Requirement already satisfied: numpy in /home/stm/anaconda3/envs/gan/lib/python3.8/site-packages (from basicsr) (1.21.1)\n",
      "Requirement already satisfied: tqdm in /home/stm/anaconda3/envs/gan/lib/python3.8/site-packages (from basicsr) (4.62.3)\n",
      "Requirement already satisfied: typing-extensions in /home/stm/anaconda3/envs/gan/lib/python3.8/site-packages (from torch>=1.7->basicsr) (4.1.0)\n",
      "Requirement already satisfied: certifi>=2017.4.17 in /home/stm/anaconda3/envs/gan/lib/python3.8/site-packages (from requests->basicsr) (2021.10.8)\n",
      "Requirement already satisfied: idna<4,>=2.5 in /home/stm/anaconda3/envs/gan/lib/python3.8/site-packages (from requests->basicsr) (3.3)\n",
      "Requirement already satisfied: urllib3<1.27,>=1.21.1 in /home/stm/anaconda3/envs/gan/lib/python3.8/site-packages (from requests->basicsr) (1.26.8)\n",
      "Requirement already satisfied: charset-normalizer~=2.0.0 in /home/stm/anaconda3/envs/gan/lib/python3.8/site-packages (from requests->basicsr) (2.0.12)\n",
      "Requirement already satisfied: networkx>=2.2 in /home/stm/anaconda3/envs/gan/lib/python3.8/site-packages (from scikit-image->basicsr) (2.6.3)\n",
      "Requirement already satisfied: tifffile>=2019.7.26 in /home/stm/anaconda3/envs/gan/lib/python3.8/site-packages (from scikit-image->basicsr) (2022.2.9)\n",
      "Requirement already satisfied: PyWavelets>=1.1.1 in /home/stm/anaconda3/envs/gan/lib/python3.8/site-packages (from scikit-image->basicsr) (1.2.0)\n",
      "Requirement already satisfied: imageio>=2.4.1 in /home/stm/anaconda3/envs/gan/lib/python3.8/site-packages (from scikit-image->basicsr) (2.15.0)\n",
      "Requirement already satisfied: packaging>=20.0 in /home/stm/anaconda3/envs/gan/lib/python3.8/site-packages (from scikit-image->basicsr) (21.3)\n",
      "Requirement already satisfied: pyparsing!=3.0.5,>=2.0.2 in /home/stm/anaconda3/envs/gan/lib/python3.8/site-packages (from packaging>=20.0->scikit-image->basicsr) (3.0.7)\n",
      "Requirement already satisfied: google-auth<3,>=1.6.3 in /home/stm/anaconda3/envs/gan/lib/python3.8/site-packages (from tb-nightly->basicsr) (2.6.0)\n",
      "Requirement already satisfied: werkzeug>=0.11.15 in /home/stm/anaconda3/envs/gan/lib/python3.8/site-packages (from tb-nightly->basicsr) (2.0.3)\n",
      "Requirement already satisfied: google-auth-oauthlib<0.5,>=0.4.1 in /home/stm/anaconda3/envs/gan/lib/python3.8/site-packages (from tb-nightly->basicsr) (0.4.6)\n",
      "Requirement already satisfied: absl-py>=0.4 in /home/stm/anaconda3/envs/gan/lib/python3.8/site-packages (from tb-nightly->basicsr) (1.0.0)\n",
      "Requirement already satisfied: wheel>=0.26 in /home/stm/anaconda3/envs/gan/lib/python3.8/site-packages (from tb-nightly->basicsr) (0.37.1)\n",
      "Requirement already satisfied: setuptools>=41.0.0 in /home/stm/anaconda3/envs/gan/lib/python3.8/site-packages (from tb-nightly->basicsr) (58.0.4)\n",
      "Requirement already satisfied: markdown>=2.6.8 in /home/stm/anaconda3/envs/gan/lib/python3.8/site-packages (from tb-nightly->basicsr) (3.3.6)\n",
      "Requirement already satisfied: grpcio>=1.24.3 in /home/stm/anaconda3/envs/gan/lib/python3.8/site-packages (from tb-nightly->basicsr) (1.43.0)\n",
      "Requirement already satisfied: tensorboard-data-server<0.7.0,>=0.6.0 in /home/stm/anaconda3/envs/gan/lib/python3.8/site-packages (from tb-nightly->basicsr) (0.6.1)\n",
      "Requirement already satisfied: protobuf>=3.9.2 in /home/stm/anaconda3/envs/gan/lib/python3.8/site-packages (from tb-nightly->basicsr) (3.19.4)\n",
      "Requirement already satisfied: tensorboard-plugin-wit>=1.6.0 in /home/stm/anaconda3/envs/gan/lib/python3.8/site-packages (from tb-nightly->basicsr) (1.8.1)\n",
      "Requirement already satisfied: six in /home/stm/anaconda3/envs/gan/lib/python3.8/site-packages (from absl-py>=0.4->tb-nightly->basicsr) (1.16.0)\n",
      "Requirement already satisfied: cachetools<6.0,>=2.0.0 in /home/stm/anaconda3/envs/gan/lib/python3.8/site-packages (from google-auth<3,>=1.6.3->tb-nightly->basicsr) (5.0.0)\n",
      "Requirement already satisfied: pyasn1-modules>=0.2.1 in /home/stm/anaconda3/envs/gan/lib/python3.8/site-packages (from google-auth<3,>=1.6.3->tb-nightly->basicsr) (0.2.8)\n",
      "Requirement already satisfied: rsa<5,>=3.1.4 in /home/stm/anaconda3/envs/gan/lib/python3.8/site-packages (from google-auth<3,>=1.6.3->tb-nightly->basicsr) (4.8)\n",
      "Requirement already satisfied: requests-oauthlib>=0.7.0 in /home/stm/anaconda3/envs/gan/lib/python3.8/site-packages (from google-auth-oauthlib<0.5,>=0.4.1->tb-nightly->basicsr) (1.3.1)\n",
      "Requirement already satisfied: importlib-metadata>=4.4 in /home/stm/anaconda3/envs/gan/lib/python3.8/site-packages (from markdown>=2.6.8->tb-nightly->basicsr) (4.11.0)\n",
      "Requirement already satisfied: zipp>=0.5 in /home/stm/anaconda3/envs/gan/lib/python3.8/site-packages (from importlib-metadata>=4.4->markdown>=2.6.8->tb-nightly->basicsr) (3.7.0)\n",
      "Requirement already satisfied: pyasn1<0.5.0,>=0.4.6 in /home/stm/anaconda3/envs/gan/lib/python3.8/site-packages (from pyasn1-modules>=0.2.1->google-auth<3,>=1.6.3->tb-nightly->basicsr) (0.4.8)\n",
      "Requirement already satisfied: oauthlib>=3.0.0 in /home/stm/anaconda3/envs/gan/lib/python3.8/site-packages (from requests-oauthlib>=0.7.0->google-auth-oauthlib<0.5,>=0.4.1->tb-nightly->basicsr) (3.2.0)\n"
     ]
    }
   ],
   "source": [
    "!pip install basicsr"
   ]
  },
  {
   "cell_type": "code",
   "execution_count": null,
   "id": "98806095",
   "metadata": {},
   "outputs": [],
   "source": []
  }
 ],
 "metadata": {
  "kernelspec": {
   "display_name": "Python 3 (ipykernel)",
   "language": "python",
   "name": "python3"
  },
  "language_info": {
   "codemirror_mode": {
    "name": "ipython",
    "version": 3
   },
   "file_extension": ".py",
   "mimetype": "text/x-python",
   "name": "python",
   "nbconvert_exporter": "python",
   "pygments_lexer": "ipython3",
   "version": "3.9.7"
  }
 },
 "nbformat": 4,
 "nbformat_minor": 5
}
